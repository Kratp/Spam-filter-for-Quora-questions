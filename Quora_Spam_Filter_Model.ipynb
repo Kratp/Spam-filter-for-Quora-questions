{
 "cells": [
  {
   "cell_type": "markdown",
   "metadata": {
    "id": "hFm62mjXuPUQ"
   },
   "source": [
    "# Spam filter for Quora questions"
   ]
  },
  {
   "cell_type": "markdown",
   "metadata": {
    "id": "cPxNgBVJurT9"
   },
   "source": [
    "## Import Libraries"
   ]
  },
  {
   "cell_type": "code",
   "execution_count": 1,
   "metadata": {
    "colab": {
     "base_uri": "https://localhost:8080/"
    },
    "id": "QJpW4ArYtx0g",
    "outputId": "b0f7f83d-12e3-487e-e0fb-58add6fcb1c8"
   },
   "outputs": [
    {
     "name": "stdout",
     "output_type": "stream",
     "text": [
      "Mounted at /content/gdrive\n"
     ]
    }
   ],
   "source": [
    "from google.colab import drive\n",
    "drive.mount('/content/gdrive')"
   ]
  },
  {
   "cell_type": "code",
   "execution_count": 2,
   "metadata": {
    "colab": {
     "base_uri": "https://localhost:8080/"
    },
    "id": "ybh6_wklu1Q1",
    "outputId": "bb9e4141-85ed-4ba2-909f-e9d0ce977329"
   },
   "outputs": [
    {
     "name": "stdout",
     "output_type": "stream",
     "text": [
      "[nltk_data] Downloading package punkt to /root/nltk_data...\n",
      "[nltk_data]   Unzipping tokenizers/punkt.zip.\n",
      "[nltk_data] Downloading package stopwords to /root/nltk_data...\n",
      "[nltk_data]   Unzipping corpora/stopwords.zip.\n",
      "[nltk_data] Downloading package wordnet to /root/nltk_data...\n",
      "[nltk_data]   Unzipping corpora/wordnet.zip.\n"
     ]
    }
   ],
   "source": [
    "import numpy as np\n",
    "import pandas as pd\n",
    "\n",
    "import nltk\n",
    "nltk.download('punkt')\n",
    "nltk.download('stopwords')\n",
    "nltk.download('wordnet')\n",
    "from nltk import sent_tokenize, word_tokenize\n",
    "from nltk.corpus import stopwords\n",
    "from nltk.stem import WordNetLemmatizer\n",
    "\n",
    "from sklearn.model_selection import train_test_split\n",
    "from nltk import word_tokenize\n",
    "from keras.preprocessing.text import Tokenizer\n",
    "from keras.preprocessing import sequence\n",
    "from keras.layers import LSTM, Activation, Dense, Dropout, Input, Embedding, BatchNormalization, GRU ,concatenate\n",
    "from keras.models import Model\n",
    "from sklearn.utils import class_weight\n",
    "from keras.models import Sequential\n",
    "from keras.callbacks import ModelCheckpoint\n",
    "from keras.callbacks import EarlyStopping\n",
    "from keras import models\n",
    "from keras.models import load_model\n",
    "from sklearn.metrics import roc_auc_score, accuracy_score"
   ]
  },
  {
   "cell_type": "markdown",
   "metadata": {
    "id": "wJaok1Zv0FUq"
   },
   "source": [
    "## Load Dataset"
   ]
  },
  {
   "cell_type": "code",
   "execution_count": 3,
   "metadata": {
    "colab": {
     "base_uri": "https://localhost:8080/",
     "height": 206
    },
    "id": "uz0H1WRTz-36",
    "outputId": "7fd6a992-596b-4b5b-84a4-dd5515f26eb2"
   },
   "outputs": [
    {
     "data": {
      "text/html": [
       "<div>\n",
       "<style scoped>\n",
       "    .dataframe tbody tr th:only-of-type {\n",
       "        vertical-align: middle;\n",
       "    }\n",
       "\n",
       "    .dataframe tbody tr th {\n",
       "        vertical-align: top;\n",
       "    }\n",
       "\n",
       "    .dataframe thead th {\n",
       "        text-align: right;\n",
       "    }\n",
       "</style>\n",
       "<table border=\"1\" class=\"dataframe\">\n",
       "  <thead>\n",
       "    <tr style=\"text-align: right;\">\n",
       "      <th></th>\n",
       "      <th>qid</th>\n",
       "      <th>question_text</th>\n",
       "      <th>target</th>\n",
       "    </tr>\n",
       "  </thead>\n",
       "  <tbody>\n",
       "    <tr>\n",
       "      <th>0</th>\n",
       "      <td>00002165364db923c7e6</td>\n",
       "      <td>How did Quebec nationalists see their province...</td>\n",
       "      <td>0</td>\n",
       "    </tr>\n",
       "    <tr>\n",
       "      <th>1</th>\n",
       "      <td>000032939017120e6e44</td>\n",
       "      <td>Do you have an adopted dog, how would you enco...</td>\n",
       "      <td>0</td>\n",
       "    </tr>\n",
       "    <tr>\n",
       "      <th>2</th>\n",
       "      <td>0000412ca6e4628ce2cf</td>\n",
       "      <td>Why does velocity affect time? Does velocity a...</td>\n",
       "      <td>0</td>\n",
       "    </tr>\n",
       "    <tr>\n",
       "      <th>3</th>\n",
       "      <td>000042bf85aa498cd78e</td>\n",
       "      <td>How did Otto von Guericke used the Magdeburg h...</td>\n",
       "      <td>0</td>\n",
       "    </tr>\n",
       "    <tr>\n",
       "      <th>4</th>\n",
       "      <td>0000455dfa3e01eae3af</td>\n",
       "      <td>Can I convert montra helicon D to a mountain b...</td>\n",
       "      <td>0</td>\n",
       "    </tr>\n",
       "  </tbody>\n",
       "</table>\n",
       "</div>"
      ],
      "text/plain": [
       "                    qid  ... target\n",
       "0  00002165364db923c7e6  ...      0\n",
       "1  000032939017120e6e44  ...      0\n",
       "2  0000412ca6e4628ce2cf  ...      0\n",
       "3  000042bf85aa498cd78e  ...      0\n",
       "4  0000455dfa3e01eae3af  ...      0\n",
       "\n",
       "[5 rows x 3 columns]"
      ]
     },
     "execution_count": 3,
     "metadata": {
      "tags": []
     },
     "output_type": "execute_result"
    }
   ],
   "source": [
    "questions_data = pd.read_csv('/content/gdrive/MyDrive/Deep Learning/Quora_data/train.csv',encoding='iso-8859-1')\n",
    "questions_data.head()"
   ]
  },
  {
   "cell_type": "markdown",
   "metadata": {
    "id": "as9DXlRg1-OA"
   },
   "source": [
    "## Cleaning and preprocessing of Questions"
   ]
  },
  {
   "cell_type": "code",
   "execution_count": 4,
   "metadata": {
    "colab": {
     "base_uri": "https://localhost:8080/"
    },
    "id": "XuhZ43FP0mJi",
    "outputId": "8bdda420-2672-4b92-aa17-c88653c685d1"
   },
   "outputs": [
    {
     "data": {
      "text/plain": [
       "qid              0\n",
       "question_text    0\n",
       "target           0\n",
       "dtype: int64"
      ]
     },
     "execution_count": 4,
     "metadata": {
      "tags": []
     },
     "output_type": "execute_result"
    }
   ],
   "source": [
    "questions_data.isnull().sum()"
   ]
  },
  {
   "cell_type": "code",
   "execution_count": 5,
   "metadata": {
    "colab": {
     "base_uri": "https://localhost:8080/"
    },
    "id": "bnWK1MgY2JS5",
    "outputId": "47ac3a09-2d86-4628-bc73-f7b81cca43d7"
   },
   "outputs": [
    {
     "data": {
      "text/plain": [
       "(1306122, 3)"
      ]
     },
     "execution_count": 5,
     "metadata": {
      "tags": []
     },
     "output_type": "execute_result"
    }
   ],
   "source": [
    "questions_data.shape"
   ]
  },
  {
   "cell_type": "code",
   "execution_count": 6,
   "metadata": {
    "colab": {
     "base_uri": "https://localhost:8080/",
     "height": 206
    },
    "id": "lhfIcB-p2Jh-",
    "outputId": "ad1d1029-052d-4c4e-8607-186b954cf39b"
   },
   "outputs": [
    {
     "data": {
      "text/html": [
       "<div>\n",
       "<style scoped>\n",
       "    .dataframe tbody tr th:only-of-type {\n",
       "        vertical-align: middle;\n",
       "    }\n",
       "\n",
       "    .dataframe tbody tr th {\n",
       "        vertical-align: top;\n",
       "    }\n",
       "\n",
       "    .dataframe thead th {\n",
       "        text-align: right;\n",
       "    }\n",
       "</style>\n",
       "<table border=\"1\" class=\"dataframe\">\n",
       "  <thead>\n",
       "    <tr style=\"text-align: right;\">\n",
       "      <th></th>\n",
       "      <th>question_text</th>\n",
       "      <th>target</th>\n",
       "    </tr>\n",
       "  </thead>\n",
       "  <tbody>\n",
       "    <tr>\n",
       "      <th>0</th>\n",
       "      <td>How did Quebec nationalists see their province...</td>\n",
       "      <td>0</td>\n",
       "    </tr>\n",
       "    <tr>\n",
       "      <th>1</th>\n",
       "      <td>Do you have an adopted dog, how would you enco...</td>\n",
       "      <td>0</td>\n",
       "    </tr>\n",
       "    <tr>\n",
       "      <th>2</th>\n",
       "      <td>Why does velocity affect time? Does velocity a...</td>\n",
       "      <td>0</td>\n",
       "    </tr>\n",
       "    <tr>\n",
       "      <th>3</th>\n",
       "      <td>How did Otto von Guericke used the Magdeburg h...</td>\n",
       "      <td>0</td>\n",
       "    </tr>\n",
       "    <tr>\n",
       "      <th>4</th>\n",
       "      <td>Can I convert montra helicon D to a mountain b...</td>\n",
       "      <td>0</td>\n",
       "    </tr>\n",
       "  </tbody>\n",
       "</table>\n",
       "</div>"
      ],
      "text/plain": [
       "                                       question_text  target\n",
       "0  How did Quebec nationalists see their province...       0\n",
       "1  Do you have an adopted dog, how would you enco...       0\n",
       "2  Why does velocity affect time? Does velocity a...       0\n",
       "3  How did Otto von Guericke used the Magdeburg h...       0\n",
       "4  Can I convert montra helicon D to a mountain b...       0"
      ]
     },
     "execution_count": 6,
     "metadata": {
      "tags": []
     },
     "output_type": "execute_result"
    }
   ],
   "source": [
    "questions_data.drop(['qid'],1,inplace=True)\n",
    "questions_data.head()"
   ]
  },
  {
   "cell_type": "code",
   "execution_count": 7,
   "metadata": {
    "colab": {
     "base_uri": "https://localhost:8080/"
    },
    "id": "o-ACnoaZ2Jpz",
    "outputId": "099d7f3e-405f-497e-a8ba-70f2b2203f9a"
   },
   "outputs": [
    {
     "name": "stdout",
     "output_type": "stream",
     "text": [
      "Requirement already satisfied: beautifulsoup4 in /usr/local/lib/python3.7/dist-packages (4.6.3)\n"
     ]
    }
   ],
   "source": [
    "!pip install beautifulsoup4"
   ]
  },
  {
   "cell_type": "code",
   "execution_count": 8,
   "metadata": {
    "id": "Wq_YnWzT2QyN"
   },
   "outputs": [],
   "source": [
    "from bs4 import BeautifulSoup\n",
    "\n",
    "questions_data['question_text'] = questions_data['question_text'].apply(lambda x: BeautifulSoup(x).get_text())\n",
    "questions_data['question_text'].replace('[^a-zA-Z]',' ', regex=True, inplace=True)\n",
    "questions_data['question_text'] = questions_data['question_text'].str.lower()\n",
    "questions_data['question_text'] = questions_data['question_text'].replace('\\s+', ' ', regex=True)"
   ]
  },
  {
   "cell_type": "code",
   "execution_count": 9,
   "metadata": {
    "id": "bINuxC1_2dYN"
   },
   "outputs": [],
   "source": [
    "stop_words = set(stopwords.words('english')) \n",
    "stop_words.remove('not')\n",
    "len(stop_words)\n",
    "questions_data['question_text'] = questions_data['question_text'].apply(lambda x: ' '.join(term for term in x.split() if term not in stop_words))"
   ]
  },
  {
   "cell_type": "code",
   "execution_count": 10,
   "metadata": {
    "id": "QkbUOCwI2db_"
   },
   "outputs": [],
   "source": [
    "lemmatizer = WordNetLemmatizer()\n",
    "questions_data['question_text'] = questions_data['question_text'].apply(lambda x: ' '.join(lemmatizer.lemmatize(term) for term in x.split()))"
   ]
  },
  {
   "cell_type": "code",
   "execution_count": 11,
   "metadata": {
    "colab": {
     "base_uri": "https://localhost:8080/",
     "height": 206
    },
    "id": "N0Qxsp_t2Q1H",
    "outputId": "d9305766-e9f3-4825-8899-30df1f3b85ca"
   },
   "outputs": [
    {
     "data": {
      "text/html": [
       "<div>\n",
       "<style scoped>\n",
       "    .dataframe tbody tr th:only-of-type {\n",
       "        vertical-align: middle;\n",
       "    }\n",
       "\n",
       "    .dataframe tbody tr th {\n",
       "        vertical-align: top;\n",
       "    }\n",
       "\n",
       "    .dataframe thead th {\n",
       "        text-align: right;\n",
       "    }\n",
       "</style>\n",
       "<table border=\"1\" class=\"dataframe\">\n",
       "  <thead>\n",
       "    <tr style=\"text-align: right;\">\n",
       "      <th></th>\n",
       "      <th>question_text</th>\n",
       "      <th>target</th>\n",
       "    </tr>\n",
       "  </thead>\n",
       "  <tbody>\n",
       "    <tr>\n",
       "      <th>0</th>\n",
       "      <td>quebec nationalist see province nation</td>\n",
       "      <td>0</td>\n",
       "    </tr>\n",
       "    <tr>\n",
       "      <th>1</th>\n",
       "      <td>adopted dog would encourage people adopt not shop</td>\n",
       "      <td>0</td>\n",
       "    </tr>\n",
       "    <tr>\n",
       "      <th>2</th>\n",
       "      <td>velocity affect time velocity affect space geo...</td>\n",
       "      <td>0</td>\n",
       "    </tr>\n",
       "    <tr>\n",
       "      <th>3</th>\n",
       "      <td>otto von guericke used magdeburg hemisphere</td>\n",
       "      <td>0</td>\n",
       "    </tr>\n",
       "    <tr>\n",
       "      <th>4</th>\n",
       "      <td>convert montra helicon mountain bike changing ...</td>\n",
       "      <td>0</td>\n",
       "    </tr>\n",
       "  </tbody>\n",
       "</table>\n",
       "</div>"
      ],
      "text/plain": [
       "                                       question_text  target\n",
       "0             quebec nationalist see province nation       0\n",
       "1  adopted dog would encourage people adopt not shop       0\n",
       "2  velocity affect time velocity affect space geo...       0\n",
       "3        otto von guericke used magdeburg hemisphere       0\n",
       "4  convert montra helicon mountain bike changing ...       0"
      ]
     },
     "execution_count": 11,
     "metadata": {
      "tags": []
     },
     "output_type": "execute_result"
    }
   ],
   "source": [
    "questions_data.head()"
   ]
  },
  {
   "cell_type": "markdown",
   "metadata": {
    "id": "idyFHGiO7Xyf"
   },
   "source": []
  },
  {
   "cell_type": "markdown",
   "metadata": {
    "id": "U7xlmVlA24dS"
   },
   "source": [
    "## Glove Embedding"
   ]
  },
  {
   "cell_type": "code",
   "execution_count": 1,
   "metadata": {
    "colab": {
     "base_uri": "https://localhost:8080/"
    },
    "id": "Jcf05DI42Q4A",
    "outputId": "0518ca4a-cd88-4804-dc78-0ea5a77dc50d"
   },
   "outputs": [
    {
     "name": "stdout",
     "output_type": "stream",
     "text": [
      "--2021-07-13 05:01:11--  https://nlp.stanford.edu/data/glove.42B.300d.zip\n",
      "Resolving nlp.stanford.edu (nlp.stanford.edu)... 171.64.67.140\n",
      "Connecting to nlp.stanford.edu (nlp.stanford.edu)|171.64.67.140|:443... connected.\n",
      "HTTP request sent, awaiting response... 301 Moved Permanently\n",
      "Location: http://downloads.cs.stanford.edu/nlp/data/glove.42B.300d.zip [following]\n",
      "--2021-07-13 05:01:12--  http://downloads.cs.stanford.edu/nlp/data/glove.42B.300d.zip\n",
      "Resolving downloads.cs.stanford.edu (downloads.cs.stanford.edu)... 171.64.64.22\n",
      "Connecting to downloads.cs.stanford.edu (downloads.cs.stanford.edu)|171.64.64.22|:80... connected.\n",
      "HTTP request sent, awaiting response... 200 OK\n",
      "Length: 1877800501 (1.7G) [application/zip]\n",
      "Saving to: ‘glove.42B.300d.zip’\n",
      "\n",
      "glove.42B.300d.zip  100%[===================>]   1.75G  5.13MB/s    in 5m 54s  \n",
      "\n",
      "2021-07-13 05:07:05 (5.06 MB/s) - ‘glove.42B.300d.zip’ saved [1877800501/1877800501]\n",
      "\n"
     ]
    }
   ],
   "source": [
    "!wget https://nlp.stanford.edu/data/glove.42B.300d.zip\n",
    "!unzip -q glove.42B.300d.zip"
   ]
  },
  {
   "cell_type": "code",
   "execution_count": 3,
   "metadata": {
    "id": "eLjtBvyWJLuC"
   },
   "outputs": [],
   "source": [
    "!rm glove.42B.300d.zip"
   ]
  },
  {
   "cell_type": "code",
   "execution_count": 4,
   "metadata": {
    "id": "bLKy_pgw3T4q"
   },
   "outputs": [],
   "source": [
    "embeddings_index={}\n",
    "\n",
    "f=open('glove.42B.300d.txt',encoding='utf-8')\n",
    "\n",
    "for line in f:\n",
    "    values=line.split()\n",
    "    word=values[0]\n",
    "    coefs=np.asarray(values[1:],dtype='float32')\n",
    "    embeddings_index[word]=coefs\n",
    "f.close()"
   ]
  },
  {
   "cell_type": "code",
   "execution_count": 6,
   "metadata": {
    "colab": {
     "base_uri": "https://localhost:8080/"
    },
    "id": "5h7tOFU3x3x9",
    "outputId": "726204d6-836d-47fd-84d3-6e6974baacd0"
   },
   "outputs": [
    {
     "data": {
      "text/plain": [
       "array([ 1.1528e-01,  2.5675e-01, -2.3314e-03, -3.3708e-01,  1.2065e+00,\n",
       "        1.9529e-01, -2.8586e+00,  1.6321e-02, -1.6521e-02, -5.7973e-01,\n",
       "       -1.6601e-02, -2.7687e-01,  1.6605e-01, -1.7086e-01,  2.4364e-01,\n",
       "        3.7666e-01, -3.8832e-01, -1.0947e-01,  1.5988e-01, -2.5081e-01,\n",
       "       -4.9140e-01,  5.4832e-01, -3.7264e-01,  4.8865e-01, -1.0455e-01,\n",
       "       -7.2800e-01,  1.1575e-01, -2.4190e-01, -4.8795e-02, -4.3294e-01,\n",
       "        1.0510e-01,  1.0442e-01, -2.6265e-01, -4.4382e-01, -1.5374e-01,\n",
       "       -1.6880e-02, -3.2482e-02, -2.8060e-01,  1.2353e-01, -5.3766e-02,\n",
       "       -3.7838e-01, -1.4031e-01,  1.4021e-01,  2.5882e-01, -2.2439e-01,\n",
       "        6.4650e-01, -2.3916e-01, -3.1649e-01, -2.6933e-01, -2.3774e-01,\n",
       "       -1.1238e-01, -5.1685e-02,  5.0766e-01,  4.1459e-02, -6.4502e-02,\n",
       "        3.0197e-02, -2.8650e-02,  7.9970e-02, -1.2940e-01,  2.5734e-01,\n",
       "       -3.1493e-01, -1.6216e-02, -3.7095e-01,  1.6928e-01, -1.8740e-01,\n",
       "        2.2701e-01,  1.0125e-01, -2.1701e-01, -2.0954e-02, -5.4929e-03,\n",
       "       -5.4748e-01,  5.6920e-02,  4.6272e-01,  6.4353e-01,  1.1989e-02,\n",
       "        7.1515e-02,  2.4068e-01,  2.8093e-01, -6.6578e-02, -3.6590e-01,\n",
       "        7.2853e-01, -2.7398e-01,  9.1728e-02,  8.7765e-01, -1.1922e-01,\n",
       "        2.8042e-01, -2.1223e-01,  2.7502e-01,  1.2850e-01,  1.3308e-02,\n",
       "        1.5942e-01,  4.4381e-01, -1.1571e-01, -7.7494e-04,  4.6579e-01,\n",
       "       -8.1634e-01, -3.2316e+00, -4.7046e-01,  2.2687e-01, -1.5614e-01,\n",
       "       -2.7617e-01, -1.1765e-01,  7.7353e-01, -2.5133e-02,  5.8535e-01,\n",
       "        6.5510e-02, -1.9689e-01, -1.3028e-02,  5.8319e-01, -1.2855e-01,\n",
       "        1.1143e-01,  9.6237e-02, -4.5937e-02, -3.8519e-01, -3.6594e-01,\n",
       "       -8.6570e-01,  7.6004e-01, -2.3985e-01,  5.5002e-02,  3.3850e-02,\n",
       "        4.6254e-01, -6.0224e-01, -3.8180e-01, -5.1217e-02, -6.3593e-02,\n",
       "        1.0970e-01,  9.6003e-02,  3.4430e-01, -4.4451e-02,  8.0741e-02,\n",
       "       -4.2002e-01, -6.2448e-02,  6.1845e-02, -2.5319e-01,  3.0340e-02,\n",
       "       -5.7344e-02, -1.0506e-01, -1.9683e-01, -1.3391e-01,  4.3974e-01,\n",
       "       -4.9465e-01, -1.7757e-02, -4.8494e-01, -2.6644e-02,  4.3982e-01,\n",
       "        4.2647e-01,  2.2924e-01, -4.4036e-01,  4.1221e-01, -9.4001e-01,\n",
       "        1.0468e-02,  2.4380e-01, -5.8789e-01, -1.2246e-01,  2.2181e-01,\n",
       "        2.6224e-01,  2.5321e-01,  8.2677e-02, -3.3073e-01, -4.7421e-01,\n",
       "       -2.5111e-01, -4.1024e-01,  2.3819e-01,  3.4358e-01, -1.6627e-01,\n",
       "       -3.6366e-01,  6.2526e-01,  4.9565e-01, -6.7617e-01,  1.5539e-01,\n",
       "       -3.0736e-01, -1.6300e-01,  1.1882e-01,  7.8532e-01, -1.4665e-01,\n",
       "       -1.5941e-01, -2.0192e-01,  9.0755e-02,  4.9262e-02,  3.2821e-01,\n",
       "       -1.2184e-01,  1.2793e-01, -1.9636e-01,  9.4147e-02,  7.0635e-02,\n",
       "        2.0803e-01, -3.7981e-01,  3.0209e-01,  3.1453e-01,  3.6609e-01,\n",
       "       -8.7553e-01,  6.0423e-01, -2.1426e-01, -1.5230e-01,  1.6433e-01,\n",
       "       -1.2631e-01,  4.8271e-01, -2.1686e-01,  2.7940e-02,  1.6528e-01,\n",
       "        2.9844e-01, -3.8032e-01,  1.6503e-01,  3.1735e-01,  2.0739e-01,\n",
       "       -3.5201e-01, -7.0468e-02,  1.6563e-02, -1.3831e-01, -8.1676e-02,\n",
       "       -1.5135e-01,  2.2381e-01, -3.6422e-01,  5.5481e-01,  6.8002e-02,\n",
       "        2.9340e-01, -3.1591e-02, -1.0675e-02, -1.0187e-01,  4.3636e-01,\n",
       "       -2.4480e-01, -3.5912e-01, -1.6418e-01,  2.5956e-01, -2.4412e+00,\n",
       "        1.0538e-01,  2.9074e-02, -1.3616e-01, -3.1228e-02,  1.2530e-01,\n",
       "        6.3827e-02, -6.5834e-01,  6.6507e-01, -2.9792e-01, -1.1201e-02,\n",
       "        6.1744e-01,  1.3824e-01, -3.6133e-01, -7.3835e-02, -6.5488e-02,\n",
       "        1.3891e-01, -2.7274e-01,  1.6497e-01, -4.8798e-01, -2.2701e-01,\n",
       "       -1.0517e+00, -5.2204e-01, -5.4193e-01,  4.0494e-02, -4.8736e-01,\n",
       "        3.3497e-01, -2.0371e-01,  2.0883e-01, -3.7967e-01,  1.1274e-01,\n",
       "       -1.0258e-01,  1.5949e-01,  3.4257e-01, -4.5704e-01, -1.3263e-02,\n",
       "        4.7324e-02,  1.1192e-01, -1.1306e-01, -1.2534e-01, -1.0817e-01,\n",
       "       -2.8417e-01,  5.1899e-01, -2.6452e-01, -3.1652e-01,  4.2452e-01,\n",
       "       -4.3173e-01, -2.3292e-01,  1.7764e-01, -1.8454e-01, -1.4104e-01,\n",
       "        4.4838e-01, -1.6915e-01,  4.8092e-01,  1.0951e-01, -2.0742e-01,\n",
       "       -4.8819e-01,  1.4115e-01, -3.9741e-01, -4.0909e-01,  6.1928e-02,\n",
       "       -3.3992e-02,  7.6092e-01,  1.2156e-01,  2.3034e-01, -2.3551e-01,\n",
       "       -4.1757e-03, -1.0498e-02, -1.8410e-01, -1.4467e-02,  1.8913e-01,\n",
       "       -8.5512e-02, -8.0515e-01, -2.2880e-01,  6.8670e-01, -3.4468e-02],\n",
       "      dtype=float32)"
      ]
     },
     "execution_count": 6,
     "metadata": {
      "tags": []
     },
     "output_type": "execute_result"
    }
   ],
   "source": [
    "embeddings_index['products']"
   ]
  },
  {
   "cell_type": "markdown",
   "metadata": {
    "id": "bKOTADaL3lds"
   },
   "source": [
    "## Split into Train and Test Set"
   ]
  },
  {
   "cell_type": "code",
   "execution_count": 16,
   "metadata": {
    "id": "ldQdZju831F9"
   },
   "outputs": [],
   "source": [
    "train,test = train_test_split(questions_data,test_size=0.2,random_state=21)"
   ]
  },
  {
   "cell_type": "code",
   "execution_count": 17,
   "metadata": {
    "colab": {
     "base_uri": "https://localhost:8080/"
    },
    "id": "AwIK5oup31Jn",
    "outputId": "8c74aa65-193e-40f0-cd25-35d8512323af"
   },
   "outputs": [
    {
     "data": {
      "text/plain": [
       "((1044897, 2), (261225, 2))"
      ]
     },
     "execution_count": 17,
     "metadata": {
      "tags": []
     },
     "output_type": "execute_result"
    }
   ],
   "source": [
    "train.shape, test.shape"
   ]
  },
  {
   "cell_type": "code",
   "execution_count": 18,
   "metadata": {
    "id": "4opwlurN31Mf"
   },
   "outputs": [],
   "source": [
    "x_train = train['question_text']\n",
    "y_train = train['target']\n",
    "x_test = test['question_text']\n",
    "y_test = test['target']"
   ]
  },
  {
   "cell_type": "code",
   "execution_count": 19,
   "metadata": {
    "colab": {
     "base_uri": "https://localhost:8080/"
    },
    "id": "WTZUHteG31O9",
    "outputId": "ffcb82ff-eda9-4aa5-f097-8a094924fb4c"
   },
   "outputs": [
    {
     "data": {
      "text/plain": [
       "((1044897,), (261225,), (1044897,), (261225,))"
      ]
     },
     "execution_count": 19,
     "metadata": {
      "tags": []
     },
     "output_type": "execute_result"
    }
   ],
   "source": [
    "x_train.shape, x_test.shape, y_train.shape, y_test.shape"
   ]
  },
  {
   "cell_type": "code",
   "execution_count": 20,
   "metadata": {
    "colab": {
     "base_uri": "https://localhost:8080/"
    },
    "id": "n19ri1aI4Ask",
    "outputId": "976af4c3-e457-49b3-e3eb-6560e9a76625"
   },
   "outputs": [
    {
     "data": {
      "text/plain": [
       "{0: 0.5330438118481048, 1: 8.065713094760243}"
      ]
     },
     "execution_count": 20,
     "metadata": {
      "tags": []
     },
     "output_type": "execute_result"
    }
   ],
   "source": [
    "class_weight = class_weight.compute_class_weight('balanced',np.unique(y_train),y_train)\n",
    "class_weight_dict = dict(enumerate(class_weight))\n",
    "class_weight_dict"
   ]
  },
  {
   "cell_type": "code",
   "execution_count": 21,
   "metadata": {
    "colab": {
     "base_uri": "https://localhost:8080/"
    },
    "id": "J_ZlsI-14Avs",
    "outputId": "b788d7ff-81f0-4128-8904-b9ec0f2901d2"
   },
   "outputs": [
    {
     "data": {
      "text/plain": [
       "110"
      ]
     },
     "execution_count": 21,
     "metadata": {
      "tags": []
     },
     "output_type": "execute_result"
    }
   ],
   "source": [
    "sent_lens=[]\n",
    "for sent in train['question_text']:\n",
    "    sent_lens.append(len(word_tokenize(sent)))\n",
    "max(sent_lens)"
   ]
  },
  {
   "cell_type": "code",
   "execution_count": 22,
   "metadata": {
    "colab": {
     "base_uri": "https://localhost:8080/"
    },
    "id": "NQV4ah7s4AzK",
    "outputId": "347fa94e-f5c4-4234-d167-d1ab39f8d587"
   },
   "outputs": [
    {
     "data": {
      "text/plain": [
       "17.0"
      ]
     },
     "execution_count": 22,
     "metadata": {
      "tags": []
     },
     "output_type": "execute_result"
    }
   ],
   "source": [
    "np.quantile(sent_lens,0.98)"
   ]
  },
  {
   "cell_type": "code",
   "execution_count": 23,
   "metadata": {
    "id": "_g8gyoG44A2B"
   },
   "outputs": [],
   "source": [
    "max_len = 17\n",
    "tok = Tokenizer(char_level=False,split=' ')\n",
    "tok.fit_on_texts(x_train)\n",
    "sequences_train = tok.texts_to_sequences(x_train)"
   ]
  },
  {
   "cell_type": "code",
   "execution_count": 24,
   "metadata": {
    "colab": {
     "base_uri": "https://localhost:8080/"
    },
    "id": "wrLJB2Xp4iOH",
    "outputId": "f3063e17-6167-4305-f5cd-5b26c0990c69"
   },
   "outputs": [
    {
     "data": {
      "text/plain": [
       "147772"
      ]
     },
     "execution_count": 24,
     "metadata": {
      "tags": []
     },
     "output_type": "execute_result"
    }
   ],
   "source": [
    "vocab_len = len(tok.index_word.keys())\n",
    "vocab_len"
   ]
  },
  {
   "cell_type": "code",
   "execution_count": 25,
   "metadata": {
    "colab": {
     "base_uri": "https://localhost:8080/"
    },
    "id": "DY91p3-W4iRJ",
    "outputId": "30f2d43f-87ce-471a-c4d1-bcecc321e421"
   },
   "outputs": [
    {
     "data": {
      "text/plain": [
       "{'get': 1,\n",
       " 'best': 2,\n",
       " 'would': 3,\n",
       " 'people': 4,\n",
       " 'like': 5,\n",
       " 'not': 6,\n",
       " 'good': 7,\n",
       " 'one': 8,\n",
       " 'make': 9,\n",
       " 'india': 10,\n",
       " 'year': 11,\n",
       " 'way': 12,\n",
       " 'time': 13,\n",
       " 'think': 14,\n",
       " 'many': 15,\n",
       " 'life': 16,\n",
       " 'much': 17,\n",
       " 'someone': 18,\n",
       " 'u': 19,\n",
       " 'use': 20,\n",
       " 'want': 21,\n",
       " 'know': 22,\n",
       " 'work': 23,\n",
       " 'country': 24,\n",
       " 'take': 25,\n",
       " 'thing': 26,\n",
       " 'job': 27,\n",
       " 'woman': 28,\n",
       " 'indian': 29,\n",
       " 'ever': 30,\n",
       " 'find': 31,\n",
       " 'world': 32,\n",
       " 'person': 33,\n",
       " 'become': 34,\n",
       " 'feel': 35,\n",
       " 'without': 36,\n",
       " 'book': 37,\n",
       " 'go': 38,\n",
       " 'could': 39,\n",
       " 'student': 40,\n",
       " 'day': 41,\n",
       " 'better': 42,\n",
       " 'quora': 43,\n",
       " 'girl': 44,\n",
       " 'mean': 45,\n",
       " 'difference': 46,\n",
       " 'trump': 47,\n",
       " 'company': 48,\n",
       " 'need': 49,\n",
       " 'new': 50,\n",
       " 'possible': 51,\n",
       " 'school': 52,\n",
       " 'college': 53,\n",
       " 'start': 54,\n",
       " 'used': 55,\n",
       " 'friend': 56,\n",
       " 'american': 57,\n",
       " 'first': 58,\n",
       " 'state': 59,\n",
       " 'question': 60,\n",
       " 'say': 61,\n",
       " 'money': 62,\n",
       " 'still': 63,\n",
       " 'business': 64,\n",
       " 'love': 65,\n",
       " 'different': 66,\n",
       " 'long': 67,\n",
       " 'old': 68,\n",
       " 'really': 69,\n",
       " 'university': 70,\n",
       " 'give': 71,\n",
       " 'learn': 72,\n",
       " 'help': 73,\n",
       " 'right': 74,\n",
       " 'even': 75,\n",
       " 'change': 76,\n",
       " 'study': 77,\n",
       " 'engineering': 78,\n",
       " 'human': 79,\n",
       " 'online': 80,\n",
       " 'child': 81,\n",
       " 'name': 82,\n",
       " 'men': 83,\n",
       " 'see': 84,\n",
       " 'come': 85,\n",
       " 'using': 86,\n",
       " 'bad': 87,\n",
       " 'back': 88,\n",
       " 'stop': 89,\n",
       " 'language': 90,\n",
       " 'muslim': 91,\n",
       " 'number': 92,\n",
       " 'class': 93,\n",
       " 'movie': 94,\n",
       " 'sex': 95,\n",
       " 'high': 96,\n",
       " 'look': 97,\n",
       " 'made': 98,\n",
       " 'guy': 99,\n",
       " 'anyone': 100,\n",
       " 'system': 101,\n",
       " 'place': 102,\n",
       " 'getting': 103,\n",
       " 'buy': 104,\n",
       " 'science': 105,\n",
       " 'cause': 106,\n",
       " 'white': 107,\n",
       " 'live': 108,\n",
       " 'war': 109,\n",
       " 'two': 110,\n",
       " 'black': 111,\n",
       " 'course': 112,\n",
       " 'happen': 113,\n",
       " 'experience': 114,\n",
       " 'exam': 115,\n",
       " 'th': 116,\n",
       " 'x': 117,\n",
       " 'going': 118,\n",
       " 'type': 119,\n",
       " 'something': 120,\n",
       " 'free': 121,\n",
       " 'answer': 122,\n",
       " 'china': 123,\n",
       " 'website': 124,\n",
       " 'real': 125,\n",
       " 'government': 126,\n",
       " 'keep': 127,\n",
       " 'computer': 128,\n",
       " 'month': 129,\n",
       " 'b': 130,\n",
       " 'english': 131,\n",
       " 'tell': 132,\n",
       " 'example': 133,\n",
       " 'true': 134,\n",
       " 'game': 135,\n",
       " 'relationship': 136,\n",
       " 'problem': 137,\n",
       " 'car': 138,\n",
       " 'man': 139,\n",
       " 'water': 140,\n",
       " 'service': 141,\n",
       " 'important': 142,\n",
       " 'account': 143,\n",
       " 'show': 144,\n",
       " 'phone': 145,\n",
       " 'c': 146,\n",
       " 'parent': 147,\n",
       " 'home': 148,\n",
       " 'career': 149,\n",
       " 'word': 150,\n",
       " 'law': 151,\n",
       " 'never': 152,\n",
       " 'always': 153,\n",
       " 'social': 154,\n",
       " 'term': 155,\n",
       " 'reason': 156,\n",
       " 'food': 157,\n",
       " 'every': 158,\n",
       " 'software': 159,\n",
       " 'family': 160,\n",
       " 'part': 161,\n",
       " 'idea': 162,\n",
       " 'main': 163,\n",
       " 'non': 164,\n",
       " 'chinese': 165,\n",
       " 'data': 166,\n",
       " 'america': 167,\n",
       " 'video': 168,\n",
       " 'math': 169,\n",
       " 'kind': 170,\n",
       " 'future': 171,\n",
       " 'working': 172,\n",
       " 'done': 173,\n",
       " 'write': 174,\n",
       " 'power': 175,\n",
       " 'learning': 176,\n",
       " 'age': 177,\n",
       " 'test': 178,\n",
       " 'body': 179,\n",
       " 'top': 180,\n",
       " 'app': 181,\n",
       " 'another': 182,\n",
       " 'degree': 183,\n",
       " 'god': 184,\n",
       " 'mark': 185,\n",
       " 'cost': 186,\n",
       " 'got': 187,\n",
       " 'product': 188,\n",
       " 'around': 189,\n",
       " 'believe': 190,\n",
       " 'google': 191,\n",
       " 'read': 192,\n",
       " 'major': 193,\n",
       " 'medium': 194,\n",
       " 'hate': 195,\n",
       " 'usa': 196,\n",
       " 'wrong': 197,\n",
       " 'call': 198,\n",
       " 'big': 199,\n",
       " 'happens': 200,\n",
       " 'today': 201,\n",
       " 'president': 202,\n",
       " 'pay': 203,\n",
       " 'dog': 204,\n",
       " 'effect': 205,\n",
       " 'le': 206,\n",
       " 'last': 207,\n",
       " 'well': 208,\n",
       " 'point': 209,\n",
       " 'engineer': 210,\n",
       " 'able': 211,\n",
       " 'market': 212,\n",
       " 'hard': 213,\n",
       " 'history': 214,\n",
       " 'end': 215,\n",
       " 'canada': 216,\n",
       " 'city': 217,\n",
       " 'also': 218,\n",
       " 'ask': 219,\n",
       " 'play': 220,\n",
       " 'house': 221,\n",
       " 'living': 222,\n",
       " 'bank': 223,\n",
       " 'process': 224,\n",
       " 'considered': 225,\n",
       " 'normal': 226,\n",
       " 'jee': 227,\n",
       " 'value': 228,\n",
       " 'create': 229,\n",
       " 'earth': 230,\n",
       " 'site': 231,\n",
       " 'e': 232,\n",
       " 'facebook': 233,\n",
       " 'score': 234,\n",
       " 'program': 235,\n",
       " 'card': 236,\n",
       " 'story': 237,\n",
       " 'form': 238,\n",
       " 'rank': 239,\n",
       " 'since': 240,\n",
       " 'group': 241,\n",
       " 'benefit': 242,\n",
       " 'level': 243,\n",
       " 'common': 244,\n",
       " 'win': 245,\n",
       " 'great': 246,\n",
       " 'instead': 247,\n",
       " 'prepare': 248,\n",
       " 'order': 249,\n",
       " 'affect': 250,\n",
       " 'tv': 251,\n",
       " 'technology': 252,\n",
       " 'actually': 253,\n",
       " 'chance': 254,\n",
       " 'anything': 255,\n",
       " 'eat': 256,\n",
       " 'united': 257,\n",
       " 'choose': 258,\n",
       " 'average': 259,\n",
       " 'music': 260,\n",
       " 'song': 261,\n",
       " 'medical': 262,\n",
       " 'given': 263,\n",
       " 'next': 264,\n",
       " 'writing': 265,\n",
       " 'known': 266,\n",
       " 'deal': 267,\n",
       " 'support': 268,\n",
       " 'making': 269,\n",
       " 'current': 270,\n",
       " 'option': 271,\n",
       " 'view': 272,\n",
       " 'face': 273,\n",
       " 'application': 274,\n",
       " 'join': 275,\n",
       " 'field': 276,\n",
       " 'v': 277,\n",
       " 'tip': 278,\n",
       " 'small': 279,\n",
       " 'lot': 280,\n",
       " 'apply': 281,\n",
       " 'fact': 282,\n",
       " 'north': 283,\n",
       " 'date': 284,\n",
       " 'uk': 285,\n",
       " 'self': 286,\n",
       " 'project': 287,\n",
       " 'cat': 288,\n",
       " 'liberal': 289,\n",
       " 'kid': 290,\n",
       " 'light': 291,\n",
       " 'animal': 292,\n",
       " 'move': 293,\n",
       " 'worth': 294,\n",
       " 'left': 295,\n",
       " 'called': 296,\n",
       " 'south': 297,\n",
       " 'design': 298,\n",
       " 'force': 299,\n",
       " 'put': 300,\n",
       " 'area': 301,\n",
       " 'open': 302,\n",
       " 'travel': 303,\n",
       " 'talk': 304,\n",
       " 'hair': 305,\n",
       " 'k': 306,\n",
       " 'post': 307,\n",
       " 'control': 308,\n",
       " 'female': 309,\n",
       " 'energy': 310,\n",
       " 'pakistan': 311,\n",
       " 'care': 312,\n",
       " 'tax': 313,\n",
       " 'based': 314,\n",
       " 'iit': 315,\n",
       " 'religion': 316,\n",
       " 'thought': 317,\n",
       " 'boy': 318,\n",
       " 'etc': 319,\n",
       " 'public': 320,\n",
       " 'delhi': 321,\n",
       " 'week': 322,\n",
       " 'meaning': 323,\n",
       " 'marketing': 324,\n",
       " 'paper': 325,\n",
       " 'others': 326,\n",
       " 'character': 327,\n",
       " 'management': 328,\n",
       " 'increase': 329,\n",
       " 'development': 330,\n",
       " 'full': 331,\n",
       " 'weight': 332,\n",
       " 'party': 333,\n",
       " 'research': 334,\n",
       " 'taking': 335,\n",
       " 'culture': 336,\n",
       " 'feeling': 337,\n",
       " 'male': 338,\n",
       " 'space': 339,\n",
       " 'skill': 340,\n",
       " 'improve': 341,\n",
       " 'christian': 342,\n",
       " 'general': 343,\n",
       " 'side': 344,\n",
       " 'hour': 345,\n",
       " 'safe': 346,\n",
       " 'stay': 347,\n",
       " 'single': 348,\n",
       " 'education': 349,\n",
       " 'found': 350,\n",
       " 'away': 351,\n",
       " 'series': 352,\n",
       " 'function': 353,\n",
       " 'role': 354,\n",
       " 'health': 355,\n",
       " 'air': 356,\n",
       " 'gun': 357,\n",
       " 'share': 358,\n",
       " 'case': 359,\n",
       " 'international': 360,\n",
       " 'salary': 361,\n",
       " 'physic': 362,\n",
       " 'mind': 363,\n",
       " 'low': 364,\n",
       " 'society': 365,\n",
       " 'political': 366,\n",
       " 'enough': 367,\n",
       " 'industry': 368,\n",
       " 'run': 369,\n",
       " 'boyfriend': 370,\n",
       " 'understand': 371,\n",
       " 'android': 372,\n",
       " 'opinion': 373,\n",
       " 'mba': 374,\n",
       " 'rate': 375,\n",
       " 'issue': 376,\n",
       " 'death': 377,\n",
       " 'required': 378,\n",
       " 'donald': 379,\n",
       " 'purpose': 380,\n",
       " 'everyone': 381,\n",
       " 'build': 382,\n",
       " 'girlfriend': 383,\n",
       " 'favorite': 384,\n",
       " 'short': 385,\n",
       " 'military': 386,\n",
       " 'youtube': 387,\n",
       " 'master': 388,\n",
       " 'popular': 389,\n",
       " 'subject': 390,\n",
       " 'mobile': 391,\n",
       " 'eye': 392,\n",
       " 'stock': 393,\n",
       " 'kill': 394,\n",
       " 'programming': 395,\n",
       " 'price': 396,\n",
       " 'behind': 397,\n",
       " 'watch': 398,\n",
       " 'happened': 399,\n",
       " 'legal': 400,\n",
       " 'admission': 401,\n",
       " 'r': 402,\n",
       " 'dream': 403,\n",
       " 'available': 404,\n",
       " 'said': 405,\n",
       " 'wear': 406,\n",
       " 'machine': 407,\n",
       " 'line': 408,\n",
       " 'plan': 409,\n",
       " 'civil': 410,\n",
       " 'often': 411,\n",
       " 'interview': 412,\n",
       " 'visa': 413,\n",
       " 'let': 414,\n",
       " 'try': 415,\n",
       " 'mass': 416,\n",
       " 'period': 417,\n",
       " 'second': 418,\n",
       " 'hindu': 419,\n",
       " 'russia': 420,\n",
       " 'offer': 421,\n",
       " 'star': 422,\n",
       " 'gay': 423,\n",
       " 'team': 424,\n",
       " 'successful': 425,\n",
       " 'else': 426,\n",
       " 'ex': 427,\n",
       " 'act': 428,\n",
       " 'leave': 429,\n",
       " 'model': 430,\n",
       " 'looking': 431,\n",
       " 'quality': 432,\n",
       " 'board': 433,\n",
       " 'european': 434,\n",
       " 'germany': 435,\n",
       " 'teacher': 436,\n",
       " 'speed': 437,\n",
       " 'doctor': 438,\n",
       " 'mother': 439,\n",
       " 'europe': 440,\n",
       " 'due': 441,\n",
       " 'theory': 442,\n",
       " 'web': 443,\n",
       " 'institute': 444,\n",
       " 'code': 445,\n",
       " 'g': 446,\n",
       " 'topic': 447,\n",
       " 'pain': 448,\n",
       " 'result': 449,\n",
       " 'set': 450,\n",
       " 'information': 451,\n",
       " 'fight': 452,\n",
       " 'past': 453,\n",
       " 'hand': 454,\n",
       " 'advice': 455,\n",
       " 'per': 456,\n",
       " 'marriage': 457,\n",
       " 'advantage': 458,\n",
       " 'die': 459,\n",
       " 'sell': 460,\n",
       " 'wife': 461,\n",
       " 'related': 462,\n",
       " 'tech': 463,\n",
       " 'consider': 464,\n",
       " 'british': 465,\n",
       " 'n': 466,\n",
       " 'internet': 467,\n",
       " 'night': 468,\n",
       " 'training': 469,\n",
       " 'everything': 470,\n",
       " 'starting': 471,\n",
       " 'brain': 472,\n",
       " 'turn': 473,\n",
       " 'similar': 474,\n",
       " 'method': 475,\n",
       " 'korea': 476,\n",
       " 'cell': 477,\n",
       " 'mechanical': 478,\n",
       " 'studying': 479,\n",
       " 'seen': 480,\n",
       " 'effective': 481,\n",
       " 'amount': 482,\n",
       " 'modern': 483,\n",
       " 'source': 484,\n",
       " 'event': 485,\n",
       " 'sound': 486,\n",
       " 'earn': 487,\n",
       " 'lose': 488,\n",
       " 'art': 489,\n",
       " 'step': 490,\n",
       " 'personal': 491,\n",
       " 'blood': 492,\n",
       " 'pro': 493,\n",
       " 'exist': 494,\n",
       " 'police': 495,\n",
       " 'private': 496,\n",
       " 'australia': 497,\n",
       " 'though': 498,\n",
       " 'foreign': 499,\n",
       " 'bangalore': 500,\n",
       " 'allowed': 501,\n",
       " 'famous': 502,\n",
       " 'rather': 503,\n",
       " 'already': 504,\n",
       " 'officer': 505,\n",
       " 'treat': 506,\n",
       " 'universe': 507,\n",
       " 'developer': 508,\n",
       " 'solution': 509,\n",
       " 'matter': 510,\n",
       " 'list': 511,\n",
       " 'store': 512,\n",
       " 'player': 513,\n",
       " 'trying': 514,\n",
       " 'difficult': 515,\n",
       " 'skin': 516,\n",
       " 'baby': 517,\n",
       " 'mumbai': 518,\n",
       " 'laptop': 519,\n",
       " 'file': 520,\n",
       " 'startup': 521,\n",
       " 'sign': 522,\n",
       " 'jew': 523,\n",
       " 'middle': 524,\n",
       " 'explain': 525,\n",
       " 'member': 526,\n",
       " 'compared': 527,\n",
       " 'charge': 528,\n",
       " 'easy': 529,\n",
       " 'worst': 530,\n",
       " 'visit': 531,\n",
       " 'sleep': 532,\n",
       " 'german': 533,\n",
       " 'daily': 534,\n",
       " 'professional': 535,\n",
       " 'russian': 536,\n",
       " 'japanese': 537,\n",
       " 'graduate': 538,\n",
       " 'knowledge': 539,\n",
       " 'neet': 540,\n",
       " 'oil': 541,\n",
       " 'towards': 542,\n",
       " 'biggest': 543,\n",
       " 'citizen': 544,\n",
       " 'married': 545,\n",
       " 'father': 546,\n",
       " 'chemical': 547,\n",
       " 'useful': 548,\n",
       " 'asked': 549,\n",
       " 'amazon': 550,\n",
       " 'investment': 551,\n",
       " 'news': 552,\n",
       " 'rule': 553,\n",
       " 'user': 554,\n",
       " 'nation': 555,\n",
       " 'iphone': 556,\n",
       " 'israel': 557,\n",
       " 'seem': 558,\n",
       " 'prevent': 559,\n",
       " 'national': 560,\n",
       " 'cse': 561,\n",
       " 'strategy': 562,\n",
       " 'follow': 563,\n",
       " 'yet': 564,\n",
       " 'film': 565,\n",
       " 'coaching': 566,\n",
       " 'happy': 567,\n",
       " 'material': 568,\n",
       " 'correct': 569,\n",
       " 'asian': 570,\n",
       " 'contact': 571,\n",
       " 'three': 572,\n",
       " 'taken': 573,\n",
       " 'lost': 574,\n",
       " 'husband': 575,\n",
       " 'rid': 576,\n",
       " 'factor': 577,\n",
       " 'policy': 578,\n",
       " 'attack': 579,\n",
       " 'cut': 580,\n",
       " 'islam': 581,\n",
       " 'practice': 582,\n",
       " 'started': 583,\n",
       " 'picture': 584,\n",
       " 'modi': 585,\n",
       " 'interest': 586,\n",
       " 'basic': 587,\n",
       " 'young': 588,\n",
       " 'may': 589,\n",
       " 'opportunity': 590,\n",
       " 'plant': 591,\n",
       " 'fall': 592,\n",
       " 'property': 593,\n",
       " 'network': 594,\n",
       " 'red': 595,\n",
       " 'describe': 596,\n",
       " 'election': 597,\n",
       " 'break': 598,\n",
       " 'japan': 599,\n",
       " 'size': 600,\n",
       " 'head': 601,\n",
       " 'negative': 602,\n",
       " 'email': 603,\n",
       " 'invest': 604,\n",
       " 'download': 605,\n",
       " 'device': 606,\n",
       " 'okay': 607,\n",
       " 'instagram': 608,\n",
       " 'avoid': 609,\n",
       " 'far': 610,\n",
       " 'security': 611,\n",
       " 'army': 612,\n",
       " 'gate': 613,\n",
       " 'office': 614,\n",
       " 'p': 615,\n",
       " 'add': 616,\n",
       " 'novel': 617,\n",
       " 'branch': 618,\n",
       " 'natural': 619,\n",
       " 'letter': 620,\n",
       " 'partner': 621,\n",
       " 'window': 622,\n",
       " 'anti': 623,\n",
       " 'develop': 624,\n",
       " 'impact': 625,\n",
       " 'thinking': 626,\n",
       " 'eating': 627,\n",
       " 'structure': 628,\n",
       " 'room': 629,\n",
       " 'com': 630,\n",
       " 'preparation': 631,\n",
       " 'fast': 632,\n",
       " 'must': 633,\n",
       " 'reading': 634,\n",
       " 'little': 635,\n",
       " 'necessary': 636,\n",
       " 'provide': 637,\n",
       " 'employee': 638,\n",
       " 'conservative': 639,\n",
       " 'present': 640,\n",
       " 'drive': 641,\n",
       " 'remove': 642,\n",
       " 'grow': 643,\n",
       " 'st': 644,\n",
       " 'message': 645,\n",
       " 'depression': 646,\n",
       " 'expect': 647,\n",
       " 'color': 648,\n",
       " 'likely': 649,\n",
       " 'within': 650,\n",
       " 'accept': 651,\n",
       " 'sexual': 652,\n",
       " 'style': 653,\n",
       " 'grade': 654,\n",
       " 'action': 655,\n",
       " 'drug': 656,\n",
       " 'brand': 657,\n",
       " 'gain': 658,\n",
       " 'text': 659,\n",
       " 'building': 660,\n",
       " 'poor': 661,\n",
       " 'standard': 662,\n",
       " 'apps': 663,\n",
       " 'personality': 664,\n",
       " 'large': 665,\n",
       " 'speak': 666,\n",
       " 'told': 667,\n",
       " 'son': 668,\n",
       " 'situation': 669,\n",
       " 'treatment': 670,\n",
       " 'send': 671,\n",
       " 'percentage': 672,\n",
       " 'obama': 673,\n",
       " 'f': 674,\n",
       " 'moving': 675,\n",
       " 'fund': 676,\n",
       " 'african': 677,\n",
       " 'land': 678,\n",
       " 'fake': 679,\n",
       " 'image': 680,\n",
       " 'claim': 681,\n",
       " 'phd': 682,\n",
       " 'illegal': 683,\n",
       " 'western': 684,\n",
       " 'check': 685,\n",
       " 'together': 686,\n",
       " 'close': 687,\n",
       " 'racist': 688,\n",
       " 'least': 689,\n",
       " 'adult': 690,\n",
       " 'race': 691,\n",
       " 'risk': 692,\n",
       " 'financial': 693,\n",
       " 'crime': 694,\n",
       " 'interested': 695,\n",
       " 'page': 696,\n",
       " 'income': 697,\n",
       " 'credit': 698,\n",
       " 'paid': 699,\n",
       " 'digital': 700,\n",
       " 'characteristic': 701,\n",
       " 'nothing': 702,\n",
       " 'becoming': 703,\n",
       " 'outside': 704,\n",
       " 'population': 705,\n",
       " 'us': 706,\n",
       " 'interesting': 707,\n",
       " 'democrat': 708,\n",
       " 'feature': 709,\n",
       " 'lead': 710,\n",
       " 'heart': 711,\n",
       " 'mental': 712,\n",
       " 'prefer': 713,\n",
       " 'tool': 714,\n",
       " 'gas': 715,\n",
       " 'might': 716,\n",
       " 'apple': 717,\n",
       " 'higher': 718,\n",
       " 'upsc': 719,\n",
       " 'community': 720,\n",
       " 'hurt': 721,\n",
       " 'h': 722,\n",
       " 'photo': 723,\n",
       " 'meet': 724,\n",
       " 'narcissist': 725,\n",
       " 'dating': 726,\n",
       " 'french': 727,\n",
       " 'nuclear': 728,\n",
       " 'scope': 729,\n",
       " 'train': 730,\n",
       " 'placement': 731,\n",
       " 'economy': 732,\n",
       " 'content': 733,\n",
       " 'planet': 734,\n",
       " 'sale': 735,\n",
       " 'special': 736,\n",
       " 'physical': 737,\n",
       " 'chemistry': 738,\n",
       " 'allow': 739,\n",
       " 'fat': 740,\n",
       " 'rich': 741,\n",
       " 'actor': 742,\n",
       " 'mom': 743,\n",
       " 'sport': 744,\n",
       " 'atheist': 745,\n",
       " 'return': 746,\n",
       " 'fee': 747,\n",
       " 'born': 748,\n",
       " 'pressure': 749,\n",
       " 'position': 750,\n",
       " 'internship': 751,\n",
       " 'hotel': 752,\n",
       " 'java': 753,\n",
       " 'engine': 754,\n",
       " 'intelligence': 755,\n",
       " 'link': 756,\n",
       " 'm': 757,\n",
       " 'condition': 758,\n",
       " 'inside': 759,\n",
       " 'strong': 760,\n",
       " 'changed': 761,\n",
       " 'crush': 762,\n",
       " 'procedure': 763,\n",
       " 'drink': 764,\n",
       " 'created': 765,\n",
       " 'object': 766,\n",
       " 'resource': 767,\n",
       " 'recommend': 768,\n",
       " 'dark': 769,\n",
       " 'pregnant': 770,\n",
       " 'positive': 771,\n",
       " 'fear': 772,\n",
       " 'please': 773,\n",
       " 'pas': 774,\n",
       " 'hyderabad': 775,\n",
       " 'iq': 776,\n",
       " 'ca': 777,\n",
       " 'marry': 778,\n",
       " 'bit': 779,\n",
       " 'seat': 780,\n",
       " 'pursue': 781,\n",
       " 'hindi': 782,\n",
       " 'currently': 783,\n",
       " 'talking': 784,\n",
       " 'africa': 785,\n",
       " 'channel': 786,\n",
       " 'early': 787,\n",
       " 'distance': 788,\n",
       " 'west': 789,\n",
       " 'bitcoin': 790,\n",
       " 'bring': 791,\n",
       " 'teach': 792,\n",
       " 'near': 793,\n",
       " 'spend': 794,\n",
       " 'leader': 795,\n",
       " 'memory': 796,\n",
       " 'solve': 797,\n",
       " 'activity': 798,\n",
       " 'disorder': 799,\n",
       " 'whole': 800,\n",
       " 'moment': 801,\n",
       " 'concept': 802,\n",
       " 'smart': 803,\n",
       " 'republican': 804,\n",
       " 'daughter': 805,\n",
       " 'sister': 806,\n",
       " 'global': 807,\n",
       " 'especially': 808,\n",
       " 'healthy': 809,\n",
       " 'choice': 810,\n",
       " 'stupid': 811,\n",
       " 'review': 812,\n",
       " 'lie': 813,\n",
       " 'save': 814,\n",
       " 'completely': 815,\n",
       " 'alone': 816,\n",
       " 'certain': 817,\n",
       " 'reaction': 818,\n",
       " 'ok': 819,\n",
       " 'pune': 820,\n",
       " 'cold': 821,\n",
       " 'million': 822,\n",
       " 'exactly': 823,\n",
       " 'reduce': 824,\n",
       " 'technique': 825,\n",
       " 'according': 826,\n",
       " 'nit': 827,\n",
       " 'religious': 828,\n",
       " 'written': 829,\n",
       " 'complete': 830,\n",
       " 'coming': 831,\n",
       " 'cbse': 832,\n",
       " 'korean': 833,\n",
       " 'bill': 834,\n",
       " 'note': 835,\n",
       " 'profile': 836,\n",
       " 'blog': 837,\n",
       " 'yes': 838,\n",
       " 'ago': 839,\n",
       " 'transfer': 840,\n",
       " 'manager': 841,\n",
       " 'playing': 842,\n",
       " 'among': 843,\n",
       " 'east': 844,\n",
       " 'fix': 845,\n",
       " 'decision': 846,\n",
       " 'advanced': 847,\n",
       " 'needed': 848,\n",
       " 'court': 849,\n",
       " 'brother': 850,\n",
       " 'electrical': 851,\n",
       " 'search': 852,\n",
       " 'challenge': 853,\n",
       " 'dead': 854,\n",
       " 'minimum': 855,\n",
       " 'comment': 856,\n",
       " 'simple': 857,\n",
       " 'almost': 858,\n",
       " 'relation': 859,\n",
       " 'buying': 860,\n",
       " 'loan': 861,\n",
       " 'wish': 862,\n",
       " 'summer': 863,\n",
       " 'individual': 864,\n",
       " 'saying': 865,\n",
       " 'tamil': 866,\n",
       " 'multiple': 867,\n",
       " 'report': 868,\n",
       " 'abroad': 869,\n",
       " 'sense': 870,\n",
       " 'weapon': 871,\n",
       " 'react': 872,\n",
       " 'easily': 873,\n",
       " 'green': 874,\n",
       " 'accomplishment': 875,\n",
       " 'customer': 876,\n",
       " 'giving': 877,\n",
       " 'mathematics': 878,\n",
       " 'insurance': 879,\n",
       " 'stand': 880,\n",
       " 'analysis': 881,\n",
       " 'blue': 882,\n",
       " 'anxiety': 883,\n",
       " 'foot': 884,\n",
       " 'front': 885,\n",
       " 'cancer': 886,\n",
       " 'season': 887,\n",
       " 'writer': 888,\n",
       " 'flight': 889,\n",
       " 'running': 890,\n",
       " 'asking': 891,\n",
       " 'final': 892,\n",
       " 'clear': 893,\n",
       " 'communication': 894,\n",
       " 'economic': 895,\n",
       " 'specific': 896,\n",
       " 'prove': 897,\n",
       " 'fire': 898,\n",
       " 'temperature': 899,\n",
       " 'platform': 900,\n",
       " 'football': 901,\n",
       " 'trade': 902,\n",
       " 'restaurant': 903,\n",
       " 'finance': 904,\n",
       " 'sentence': 905,\n",
       " 'l': 906,\n",
       " 'developed': 907,\n",
       " 'beautiful': 908,\n",
       " 'sometimes': 909,\n",
       " 'ball': 910,\n",
       " 'co': 911,\n",
       " 'growth': 912,\n",
       " 'lower': 913,\n",
       " 'couple': 914,\n",
       " 'cannot': 915,\n",
       " 'ancient': 916,\n",
       " 'importance': 917,\n",
       " 'half': 918,\n",
       " 'anime': 919,\n",
       " 'immigrant': 920,\n",
       " 'scientist': 921,\n",
       " 'exercise': 922,\n",
       " 'gender': 923,\n",
       " 'manage': 924,\n",
       " 'voice': 925,\n",
       " 'later': 926,\n",
       " 'hit': 927,\n",
       " 'key': 928,\n",
       " 'jesus': 929,\n",
       " 'fun': 930,\n",
       " 'medicine': 931,\n",
       " 'canadian': 932,\n",
       " 'economics': 933,\n",
       " 'heard': 934,\n",
       " 'detail': 935,\n",
       " 'california': 936,\n",
       " 'influence': 937,\n",
       " 'candidate': 938,\n",
       " 'king': 939,\n",
       " 'survive': 940,\n",
       " 'net': 941,\n",
       " 'dollar': 942,\n",
       " 'camera': 943,\n",
       " 'rest': 944,\n",
       " 'center': 945,\n",
       " 'singapore': 946,\n",
       " 'convert': 947,\n",
       " 'secret': 948,\n",
       " 'moon': 949,\n",
       " 'recently': 950,\n",
       " 'longer': 951,\n",
       " 'loss': 952,\n",
       " 'electric': 953,\n",
       " 'politics': 954,\n",
       " 'enjoy': 955,\n",
       " 'john': 956,\n",
       " 'suggest': 957,\n",
       " 'killed': 958,\n",
       " 'perfect': 959,\n",
       " 'overcome': 960,\n",
       " 'powerful': 961,\n",
       " 'pc': 962,\n",
       " 'bjp': 963,\n",
       " 'trading': 964,\n",
       " 'acid': 965,\n",
       " 'recent': 966,\n",
       " 'block': 967,\n",
       " 'address': 968,\n",
       " 'clean': 969,\n",
       " 'considering': 970,\n",
       " 'diet': 971,\n",
       " 'goal': 972,\n",
       " 'hitler': 973,\n",
       " 'limit': 974,\n",
       " 'success': 975,\n",
       " 'despite': 976,\n",
       " 'battery': 977,\n",
       " 'certificate': 978,\n",
       " 'reach': 979,\n",
       " 'planning': 980,\n",
       " 'compare': 981,\n",
       " 'vote': 982,\n",
       " 'drop': 983,\n",
       " 'access': 984,\n",
       " 'seems': 985,\n",
       " 'version': 986,\n",
       " 'category': 987,\n",
       " 'hold': 988,\n",
       " 'terrorist': 989,\n",
       " 'acting': 990,\n",
       " 'approach': 991,\n",
       " 'metal': 992,\n",
       " 'road': 993,\n",
       " 'recipe': 994,\n",
       " 'native': 995,\n",
       " 'birth': 996,\n",
       " 'pakistani': 997,\n",
       " 'deep': 998,\n",
       " 'realize': 999,\n",
       " 'disease': 1000,\n",
       " ...}"
      ]
     },
     "execution_count": 25,
     "metadata": {
      "tags": []
     },
     "output_type": "execute_result"
    }
   ],
   "source": [
    "tok.word_index"
   ]
  },
  {
   "cell_type": "code",
   "execution_count": 26,
   "metadata": {
    "colab": {
     "base_uri": "https://localhost:8080/"
    },
    "id": "fEy2g4WV4iTt",
    "outputId": "d8867453-8a0b-41e7-e368-127f6c0a59b2"
   },
   "outputs": [
    {
     "data": {
      "text/plain": [
       "array([[    0,     0,     0, ...,     3,    19,   268],\n",
       "       [    0,     0,     0, ...,  1327,  1914,   505],\n",
       "       [    0,     0,     0, ...,  7302,  6804, 70102],\n",
       "       ...,\n",
       "       [    0,     0,     0, ...,    13,   179,  9390],\n",
       "       [    0,     0,     0, ...,  1094,    94,   226],\n",
       "       [    0,     0,     0, ...,   159,    55,   420]], dtype=int32)"
      ]
     },
     "execution_count": 26,
     "metadata": {
      "tags": []
     },
     "output_type": "execute_result"
    }
   ],
   "source": [
    "sequences_matrix_train = sequence.pad_sequences(sequences_train, maxlen=max_len)\n",
    "sequences_matrix_train"
   ]
  },
  {
   "cell_type": "code",
   "execution_count": 27,
   "metadata": {
    "id": "V5U54HNi4-F_"
   },
   "outputs": [],
   "source": [
    "sequences_test = tok.texts_to_sequences(x_test)\n",
    "sequences_matrix_test = sequence.pad_sequences(sequences_test, maxlen=max_len)"
   ]
  },
  {
   "cell_type": "code",
   "execution_count": 28,
   "metadata": {
    "colab": {
     "base_uri": "https://localhost:8080/"
    },
    "id": "nnYdPRs34-MA",
    "outputId": "5232a37b-8dc3-4cd9-a3d0-84482847a0ea"
   },
   "outputs": [
    {
     "data": {
      "text/plain": [
       "((1044897, 17), (261225, 17), (1044897,), (261225,))"
      ]
     },
     "execution_count": 28,
     "metadata": {
      "tags": []
     },
     "output_type": "execute_result"
    }
   ],
   "source": [
    "sequences_matrix_train.shape, sequences_matrix_test.shape, y_train.shape, y_test.shape"
   ]
  },
  {
   "cell_type": "code",
   "execution_count": 29,
   "metadata": {
    "id": "PIRKs-jG5Fef"
   },
   "outputs": [],
   "source": [
    "embedding_matrix=np.zeros((vocab_len+1,300))\n",
    "\n",
    "for word,i in tok.word_index.items():\n",
    "    embed_vector=embeddings_index.get(word)\n",
    "    if embed_vector is not None:\n",
    "        if (embed_vector.shape != 0):  \n",
    "            embedding_matrix[i]=embed_vector"
   ]
  },
  {
   "cell_type": "code",
   "execution_count": 30,
   "metadata": {
    "colab": {
     "base_uri": "https://localhost:8080/"
    },
    "id": "UsHAVaqY5FhU",
    "outputId": "339de12e-a70a-4103-e238-40bc4250433d"
   },
   "outputs": [
    {
     "data": {
      "text/plain": [
       "(147773, 300)"
      ]
     },
     "execution_count": 30,
     "metadata": {
      "tags": []
     },
     "output_type": "execute_result"
    }
   ],
   "source": [
    "embedding_matrix.shape"
   ]
  },
  {
   "cell_type": "markdown",
   "metadata": {
    "id": "ncz_Ya9B52WS"
   },
   "source": [
    "## Build the Model"
   ]
  },
  {
   "cell_type": "code",
   "execution_count": 32,
   "metadata": {
    "id": "a-SLZOJr5FkQ"
   },
   "outputs": [],
   "source": [
    "inputs = Input(name='text_input',shape=[max_len])\n",
    "embed=Embedding(vocab_len+1,300,input_length=max_len,mask_zero=True,\n",
    "                weights=[embedding_matrix],trainable=False)(inputs)\n",
    "layer = LSTM(512)(embed)\n",
    "layer = Dropout(0.2)(layer)\n",
    "layer = Dense(256,activation='relu')(layer)\n",
    "layer = Dropout(0.2)(layer)\n",
    "layer = Dense(128,activation='relu')(layer)\n",
    "layer = Dropout(0.2)(layer)\n",
    "layer = Dense(25,activation='relu')(layer)\n",
    "layer = Dropout(0.2)(layer)\n",
    "layer = Dense(1,activation='sigmoid')(layer)\n",
    "\n",
    "model = Model(inputs=inputs,outputs=layer)"
   ]
  },
  {
   "cell_type": "code",
   "execution_count": 33,
   "metadata": {
    "colab": {
     "base_uri": "https://localhost:8080/"
    },
    "id": "-yZnVJAR59h7",
    "outputId": "464694e2-f7ce-49ac-e153-eef2e64a89d5"
   },
   "outputs": [
    {
     "name": "stdout",
     "output_type": "stream",
     "text": [
      "Model: \"model_1\"\n",
      "_________________________________________________________________\n",
      "Layer (type)                 Output Shape              Param #   \n",
      "=================================================================\n",
      "text_input (InputLayer)      [(None, 17)]              0         \n",
      "_________________________________________________________________\n",
      "embedding_1 (Embedding)      (None, 17, 300)           44331900  \n",
      "_________________________________________________________________\n",
      "lstm_1 (LSTM)                (None, 512)               1665024   \n",
      "_________________________________________________________________\n",
      "dropout_4 (Dropout)          (None, 512)               0         \n",
      "_________________________________________________________________\n",
      "dense_4 (Dense)              (None, 256)               131328    \n",
      "_________________________________________________________________\n",
      "dropout_5 (Dropout)          (None, 256)               0         \n",
      "_________________________________________________________________\n",
      "dense_5 (Dense)              (None, 128)               32896     \n",
      "_________________________________________________________________\n",
      "dropout_6 (Dropout)          (None, 128)               0         \n",
      "_________________________________________________________________\n",
      "dense_6 (Dense)              (None, 25)                3225      \n",
      "_________________________________________________________________\n",
      "dropout_7 (Dropout)          (None, 25)                0         \n",
      "_________________________________________________________________\n",
      "dense_7 (Dense)              (None, 1)                 26        \n",
      "=================================================================\n",
      "Total params: 46,164,399\n",
      "Trainable params: 1,832,499\n",
      "Non-trainable params: 44,331,900\n",
      "_________________________________________________________________\n"
     ]
    }
   ],
   "source": [
    "model.summary()"
   ]
  },
  {
   "cell_type": "code",
   "execution_count": 34,
   "metadata": {
    "id": "4-4XsLCc59ly"
   },
   "outputs": [],
   "source": [
    "filepath='/content/gdrive/MyDrive/Deep Learning/Quora_data/weights-{epoch:02d}-{val_loss:.4f}.h5'\n",
    "checkpoint = ModelCheckpoint(filepath, monitor='val_loss', verbose=1, \n",
    "                             save_best_only=True)"
   ]
  },
  {
   "cell_type": "code",
   "execution_count": 35,
   "metadata": {
    "id": "ZdZQC0uh6DIM"
   },
   "outputs": [],
   "source": [
    "earlystop = EarlyStopping(monitor='val_loss', patience=3,\n",
    "                          verbose=1)"
   ]
  },
  {
   "cell_type": "code",
   "execution_count": 36,
   "metadata": {
    "id": "ws5ZIez76DLR"
   },
   "outputs": [],
   "source": [
    "model.compile(optimizer='adam',loss='binary_crossentropy',metrics=['accuracy'])"
   ]
  },
  {
   "cell_type": "markdown",
   "metadata": {
    "id": "F6b5dTci6jha"
   },
   "source": [
    "## Train the Model"
   ]
  },
  {
   "cell_type": "code",
   "execution_count": 37,
   "metadata": {
    "colab": {
     "base_uri": "https://localhost:8080/"
    },
    "id": "BN6U0y6A6DOI",
    "outputId": "b2df0e45-f27e-46d0-8e1b-5ea0231d00eb"
   },
   "outputs": [
    {
     "name": "stdout",
     "output_type": "stream",
     "text": [
      "WARNING:tensorflow:From /usr/local/lib/python3.7/dist-packages/tensorflow/python/ops/array_ops.py:5049: calling gather (from tensorflow.python.ops.array_ops) with validate_indices is deprecated and will be removed in a future version.\n",
      "Instructions for updating:\n",
      "The `validate_indices` argument has no effect. Indices are always validated on CPU and never validated on GPU.\n",
      "Epoch 1/20\n",
      "1021/1021 [==============================] - 3508s 3s/step - loss: 0.3477 - accuracy: 0.8389 - val_loss: 0.2607 - val_accuracy: 0.8944\n",
      "\n",
      "Epoch 00001: val_loss improved from inf to 0.26074, saving model to /content/gdrive/MyDrive/Deep Learning/Quora_data/weights-01-0.2607.h5\n",
      "Epoch 2/20\n",
      "1021/1021 [==============================] - 3484s 3s/step - loss: 0.2673 - accuracy: 0.8849 - val_loss: 0.2460 - val_accuracy: 0.8996\n",
      "\n",
      "Epoch 00002: val_loss improved from 0.26074 to 0.24596, saving model to /content/gdrive/MyDrive/Deep Learning/Quora_data/weights-02-0.2460.h5\n",
      "Epoch 3/20\n",
      "1021/1021 [==============================] - 3469s 3s/step - loss: 0.2439 - accuracy: 0.8914 - val_loss: 0.2701 - val_accuracy: 0.8851\n",
      "\n",
      "Epoch 00003: val_loss did not improve from 0.24596\n",
      "Epoch 4/20\n",
      "1021/1021 [==============================] - 3480s 3s/step - loss: 0.2219 - accuracy: 0.8985 - val_loss: 0.2796 - val_accuracy: 0.8769\n",
      "\n",
      "Epoch 00004: val_loss did not improve from 0.24596\n",
      "Epoch 5/20\n",
      "1021/1021 [==============================] - 3539s 3s/step - loss: 0.1969 - accuracy: 0.9045 - val_loss: 0.2472 - val_accuracy: 0.8962\n",
      "\n",
      "Epoch 00005: val_loss did not improve from 0.24596\n",
      "Epoch 00005: early stopping\n"
     ]
    },
    {
     "data": {
      "text/plain": [
       "<keras.callbacks.History at 0x7fe982c119d0>"
      ]
     },
     "execution_count": 37,
     "metadata": {
      "tags": []
     },
     "output_type": "execute_result"
    }
   ],
   "source": [
    "model.fit(sequences_matrix_train,y_train,\n",
    "              epochs=20,\n",
    "              class_weight={0: 0.5330438118481048, 1: 8.065713094760243}, \n",
    "              batch_size=1024,\n",
    "              validation_data=(sequences_matrix_test,y_test),\n",
    "              callbacks = [earlystop, checkpoint])"
   ]
  },
  {
   "cell_type": "code",
   "execution_count": 38,
   "metadata": {
    "id": "-wulrPs06DRZ"
   },
   "outputs": [],
   "source": [
    "best_model = load_model('/content/gdrive/MyDrive/Deep Learning/Quora_data/weights-02-0.2460.h5')"
   ]
  },
  {
   "cell_type": "code",
   "execution_count": 39,
   "metadata": {
    "colab": {
     "base_uri": "https://localhost:8080/"
    },
    "id": "wVxmuRvG6W5v",
    "outputId": "d7c9cbab-6919-44c5-8383-61df94628fe8"
   },
   "outputs": [
    {
     "name": "stdout",
     "output_type": "stream",
     "text": [
      "Model: \"model_1\"\n",
      "_________________________________________________________________\n",
      "Layer (type)                 Output Shape              Param #   \n",
      "=================================================================\n",
      "text_input (InputLayer)      [(None, 17)]              0         \n",
      "_________________________________________________________________\n",
      "embedding_1 (Embedding)      (None, 17, 300)           44331900  \n",
      "_________________________________________________________________\n",
      "lstm_1 (LSTM)                (None, 512)               1665024   \n",
      "_________________________________________________________________\n",
      "dropout_4 (Dropout)          (None, 512)               0         \n",
      "_________________________________________________________________\n",
      "dense_4 (Dense)              (None, 256)               131328    \n",
      "_________________________________________________________________\n",
      "dropout_5 (Dropout)          (None, 256)               0         \n",
      "_________________________________________________________________\n",
      "dense_5 (Dense)              (None, 128)               32896     \n",
      "_________________________________________________________________\n",
      "dropout_6 (Dropout)          (None, 128)               0         \n",
      "_________________________________________________________________\n",
      "dense_6 (Dense)              (None, 25)                3225      \n",
      "_________________________________________________________________\n",
      "dropout_7 (Dropout)          (None, 25)                0         \n",
      "_________________________________________________________________\n",
      "dense_7 (Dense)              (None, 1)                 26        \n",
      "=================================================================\n",
      "Total params: 46,164,399\n",
      "Trainable params: 1,832,499\n",
      "Non-trainable params: 44,331,900\n",
      "_________________________________________________________________\n"
     ]
    }
   ],
   "source": [
    "best_model.summary()"
   ]
  },
  {
   "cell_type": "markdown",
   "metadata": {
    "id": "PooVljJ-6xIy"
   },
   "source": [
    "## Test the Model"
   ]
  },
  {
   "cell_type": "code",
   "execution_count": 40,
   "metadata": {
    "id": "HCy2-7mP6W9L"
   },
   "outputs": [],
   "source": [
    "predictions = best_model.predict(sequences_matrix_test)"
   ]
  },
  {
   "cell_type": "markdown",
   "metadata": {
    "id": "IqzmHwOM69Gn"
   },
   "source": [
    "## Evaluate with ROC-AUC Score"
   ]
  },
  {
   "cell_type": "code",
   "execution_count": 41,
   "metadata": {
    "colab": {
     "base_uri": "https://localhost:8080/"
    },
    "id": "Gc-7tBvg7ANZ",
    "outputId": "12d3e2fc-9458-41e3-db1a-a4d8eadaf48d"
   },
   "outputs": [
    {
     "data": {
      "text/plain": [
       "0.957771798377729"
      ]
     },
     "execution_count": 41,
     "metadata": {
      "tags": []
     },
     "output_type": "execute_result"
    }
   ],
   "source": [
    "roc_auc_score(y_test,predictions)"
   ]
  },
  {
   "cell_type": "markdown",
   "metadata": {
    "id": "9jv_TZx47Jhz"
   },
   "source": [
    "## Make a Prediction"
   ]
  },
  {
   "cell_type": "code",
   "execution_count": 42,
   "metadata": {
    "colab": {
     "base_uri": "https://localhost:8080/"
    },
    "id": "kOrqOuGX7N3H",
    "outputId": "ede88f3b-45e9-4b1d-a38f-a88465521c1a"
   },
   "outputs": [
    {
     "data": {
      "text/plain": [
       "question_text    best way test water moving friendship forward\n",
       "target                                                       0\n",
       "Name: 480825, dtype: object"
      ]
     },
     "execution_count": 42,
     "metadata": {
      "tags": []
     },
     "output_type": "execute_result"
    }
   ],
   "source": [
    "index = 216\n",
    "test.iloc[index]"
   ]
  },
  {
   "cell_type": "code",
   "execution_count": 43,
   "metadata": {
    "colab": {
     "base_uri": "https://localhost:8080/"
    },
    "id": "88wlzA09LD2s",
    "outputId": "d4d92a79-67d5-4ab0-cb9e-9f7380d7e294"
   },
   "outputs": [
    {
     "name": "stdout",
     "output_type": "stream",
     "text": [
      "0.0036403239\n",
      "Predicted Target -  0\n"
     ]
    }
   ],
   "source": [
    "pred = best_model.predict(sequences_matrix_test[index].reshape(1,17))[0][0]\n",
    "print(pred)\n",
    "print(\"Predicted Target - \",pred.round().astype(int))"
   ]
  },
  {
   "cell_type": "code",
   "execution_count": 44,
   "metadata": {
    "colab": {
     "base_uri": "https://localhost:8080/"
    },
    "id": "WhSGsR3hJQ6O",
    "outputId": "b6216978-21b3-4c77-c197-fc75068203fe"
   },
   "outputs": [
    {
     "data": {
      "text/plain": [
       "question_text    anyone contradict say real teaching islam musl...\n",
       "target                                                           1\n",
       "Name: 1238502, dtype: object"
      ]
     },
     "execution_count": 44,
     "metadata": {
      "tags": []
     },
     "output_type": "execute_result"
    }
   ],
   "source": [
    "index = 261224\n",
    "test.iloc[index]"
   ]
  },
  {
   "cell_type": "code",
   "execution_count": 45,
   "metadata": {
    "colab": {
     "base_uri": "https://localhost:8080/"
    },
    "id": "4V9_lEPdJXTd",
    "outputId": "5359aea4-0ac6-4e53-f5b2-7b9327964622"
   },
   "outputs": [
    {
     "name": "stdout",
     "output_type": "stream",
     "text": [
      "0.96939087\n",
      "Predicted Target -  1\n"
     ]
    }
   ],
   "source": [
    "pred = best_model.predict(sequences_matrix_test[index].reshape(1,17))[0][0]\n",
    "print(pred)\n",
    "print(\"Predicted Target - \",pred.round().astype(int))"
   ]
  },
  {
   "cell_type": "markdown",
   "metadata": {
    "id": "XYT7_Eq0MRe7"
   },
   "source": [
    "## Save Model"
   ]
  },
  {
   "cell_type": "code",
   "execution_count": 46,
   "metadata": {
    "id": "w85PEr-HL96s"
   },
   "outputs": [],
   "source": [
    "best_model.save('/content/gdrive/MyDrive/Deep Learning/Quora_data/quora_spam_filter_model.h5')"
   ]
  },
  {
   "cell_type": "code",
   "execution_count": null,
   "metadata": {
    "id": "vUJAGWjVMOhR"
   },
   "outputs": [],
   "source": []
  }
 ],
 "metadata": {
  "colab": {
   "collapsed_sections": [],
   "name": "Copy of Quora_Spam_Filter_Model.ipynb",
   "provenance": [],
   "toc_visible": true
  },
  "kernelspec": {
   "display_name": "Python 3",
   "language": "python",
   "name": "python3"
  },
  "language_info": {
   "codemirror_mode": {
    "name": "ipython",
    "version": 3
   },
   "file_extension": ".py",
   "mimetype": "text/x-python",
   "name": "python",
   "nbconvert_exporter": "python",
   "pygments_lexer": "ipython3",
   "version": "3.7.6"
  }
 },
 "nbformat": 4,
 "nbformat_minor": 1
}
